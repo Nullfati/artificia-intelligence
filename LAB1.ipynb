{
  "nbformat": 4,
  "nbformat_minor": 0,
  "metadata": {
    "colab": {
      "name": "LAB1.ipynb",
      "provenance": [],
      "collapsed_sections": [],
      "authorship_tag": "ABX9TyM5FyqMNI0kR9wPugXEoh5z",
      "include_colab_link": true
    },
    "kernelspec": {
      "name": "python3",
      "display_name": "Python 3"
    },
    "language_info": {
      "name": "python"
    }
  },
  "cells": [
    {
      "cell_type": "markdown",
      "metadata": {
        "id": "view-in-github",
        "colab_type": "text"
      },
      "source": [
        "<a href=\"https://colab.research.google.com/github/Nullfati/artificia-intelligence/blob/master/LAB1.ipynb\" target=\"_parent\"><img src=\"https://colab.research.google.com/assets/colab-badge.svg\" alt=\"Open In Colab\"/></a>"
      ]
    },
    {
      "cell_type": "code",
      "execution_count": 1,
      "metadata": {
        "colab": {
          "base_uri": "https://localhost:8080/"
        },
        "id": "bG4eDABEkhCp",
        "outputId": "4d5521b7-6c3b-4c6b-efdc-43c2266cf230"
      },
      "outputs": [
        {
          "output_type": "stream",
          "name": "stdout",
          "text": [
            "\n",
            " Binarized data:\n",
            " [[1. 0. 1.]\n",
            " [0. 1. 0.]\n",
            " [1. 0. 0.]\n",
            " [1. 0. 0.]]\n",
            "\n",
            "BEFORE: \n",
            "Mean = [ 3.775 -1.15  -1.3  ]\n",
            "Std deviation = [3.12039661 6.36651396 4.0620192 ]\n",
            "\n",
            "AFTER: \n",
            "Mean = [1.11022302e-16 0.00000000e+00 2.77555756e-17]\n",
            "Std deviation = [1. 1. 1.]\n",
            "\n",
            "Мin max scaled data:\n",
            " [[0.74117647 0.39548023 1.        ]\n",
            " [0.         1.         0.        ]\n",
            " [0.6        0.5819209  0.87234043]\n",
            " [1.         0.         0.17021277]]\n",
            "\n",
            "l1 normalized data:\n",
            " [[ 0.45132743 -0.25663717  0.2920354 ]\n",
            " [-0.0794702   0.51655629 -0.40397351]\n",
            " [ 0.609375    0.0625      0.328125  ]\n",
            " [ 0.33640553 -0.4562212  -0.20737327]]\n",
            "\n",
            "l2 normalized data:\n",
            " [[ 0.75765788 -0.43082507  0.49024922]\n",
            " [-0.12030718  0.78199664 -0.61156148]\n",
            " [ 0.87690281  0.08993875  0.47217844]\n",
            " [ 0.55734935 -0.75585734 -0.34357152]]\n"
          ]
        }
      ],
      "source": [
        "import numpy as np\n",
        "from sklearn import preprocessing\n",
        "\n",
        "input_data = np.array([[5.1, -2.9, 3.3], [-1.2, 7.8, -6.1], [3.9, 0.4, 2.1], [7.3, -9.9, -4.5]])\n",
        "# Бінаризація даних\n",
        "data_binarized = preprocessing.Binarizer(threshold=2.1).transform(input_data)\n",
        "print(\"\\n Binarized data:\\n\", data_binarized)\n",
        "\n",
        "# Виведення середнього значення та стандартного відхилення\n",
        "print(\"\\nBEFORE: \")\n",
        "print(\"Mean =\", input_data.mean(axis=0))\n",
        "print(\"Std deviation =\", input_data.std(axis=0))\n",
        "\n",
        "# Исключение среднего\n",
        "data_scaled = preprocessing.scale(input_data)\n",
        "print(\"\\nAFTER: \")\n",
        "print(\"Mean =\", data_scaled.mean(axis=0))\n",
        "print(\"Std deviation =\", data_scaled.std(axis=0))\n",
        "\n",
        "# Масштабування MinМax\n",
        "data_scaler_minmax = preprocessing.MinMaxScaler(feature_range=(0, 1))\n",
        "data_scaled_minmax = data_scaler_minmax.fit_transform(input_data)\n",
        "print(\"\\nМin max scaled data:\\n\", data_scaled_minmax)\n",
        "\n",
        "# Нормалізація даних\n",
        "data_normalized_l1 = preprocessing.normalize(input_data, norm='l1')\n",
        "data_normalized_l2 = preprocessing.normalize(input_data, norm='l2')\n",
        "print(\"\\nl1 normalized data:\\n\", data_normalized_l1)\n",
        "print(\"\\nl2 normalized data:\\n\", data_normalized_l2)\n"
      ]
    },
    {
      "cell_type": "code",
      "source": [
        "import numpy as np\n",
        "from sklearn import preprocessing\n",
        "\n",
        "# Надання позначок вхідних даних\n",
        "input_labels = ['red', 'blасk', 'red', 'green', 'Ьlack', 'yellow', 'white']\n",
        "\n",
        "# Створення кодувальника та встановлення відповідності\n",
        "# між мітками та числами\n",
        "encoder = preprocessing.LabelEncoder()\n",
        "encoder.fit(input_labels)\n",
        "\n",
        "# Виведення відображення\n",
        "print(\"\\nLabel mapping:\")\n",
        "for i, item in enumerate(encoder.classes_):\n",
        "  print(item, '-->', i)\n",
        "\n",
        "# перетворення міток за допомогою кодувальника\n",
        "test_labels = ['green', 'red', 'blасk']\n",
        "encoded_values = encoder.transform(test_labels )\n",
        "print(\"\\nLabels =\", test_labels )\n",
        "print(\"Encoded values =\", list (encoded_values ) )\n",
        "\n",
        "# Декодування набору чисел за допомогою декодера\n",
        "encoded_values = [3, 0, 4, 1]\n",
        "decoded_list = encoder.inverse_transform(encoded_values)\n",
        "print(\"\\nEncoded values =\", encoded_values)\n",
        "print(\"Decoded labels =\", list (decoded_list ) )\n"
      ],
      "metadata": {
        "colab": {
          "base_uri": "https://localhost:8080/"
        },
        "id": "fQii5xSakj9K",
        "outputId": "c288c872-7d6d-440e-bf15-ca279b7efaa0"
      },
      "execution_count": 2,
      "outputs": [
        {
          "output_type": "stream",
          "name": "stdout",
          "text": [
            "\n",
            "Label mapping:\n",
            "blасk --> 0\n",
            "green --> 1\n",
            "red --> 2\n",
            "white --> 3\n",
            "yellow --> 4\n",
            "Ьlack --> 5\n",
            "\n",
            "Labels = ['green', 'red', 'blасk']\n",
            "Encoded values = [1, 2, 0]\n",
            "\n",
            "Encoded values = [3, 0, 4, 1]\n",
            "Decoded labels = ['white', 'blасk', 'yellow', 'green']\n"
          ]
        }
      ]
    },
    {
      "cell_type": "code",
      "source": [
        "import numpy as np\n",
        "from sklearn import preprocessing\n",
        "\n",
        "input_data = np.array([[4.1, -5.9, 3.3], [6.9, 4.6, 3.9], [-4.2, 3.8, 2.3], [3.4, 1.2, 3.2]])\n",
        "\n",
        "# Бінаризація даних\n",
        "data_binarized = preprocessing.Binarizer(threshold=2.1).transform(input_data)\n",
        "print(\"\\n Binarized data:\\n\", data_binarized)\n",
        "\n",
        "# Виведення середнього значення та стандартного відхилення\n",
        "print(\"\\nBEFORE: \")\n",
        "print(\"Mean =\", input_data.mean(axis=0))\n",
        "print(\"Std deviation =\", input_data.std(axis=0))\n",
        "\n",
        "# Исключение среднего\n",
        "data_scaled = preprocessing.scale(input_data)\n",
        "print(\"\\nAFTER: \")\n",
        "print(\"Mean =\", data_scaled.mean(axis=0))\n",
        "print(\"Std deviation =\", data_scaled.std(axis=0))\n",
        "\n",
        "# Масштабування MinМax\n",
        "data_scaler_minmax = preprocessing.MinMaxScaler(feature_range=(0, 1))\n",
        "data_scaled_minmax = data_scaler_minmax.fit_transform(input_data)\n",
        "print(\"\\nМin max scaled data:\\n\", data_scaled_minmax)\n",
        "\n",
        "# Нормалізація даних\n",
        "data_normalized_l1 = preprocessing.normalize(input_data, norm='l1')\n",
        "data_normalized_l2 = preprocessing.normalize(input_data, norm='l2')\n",
        "print(\"\\nl1 normalized data:\\n\", data_normalized_l1)\n",
        "print(\"\\nl2 normalized data:\\n\", data_normalized_l2)\n"
      ],
      "metadata": {
        "colab": {
          "base_uri": "https://localhost:8080/"
        },
        "id": "GXSWVn8cqX8w",
        "outputId": "e406ed5e-02e0-4159-89f9-648014518a36"
      },
      "execution_count": 3,
      "outputs": [
        {
          "output_type": "stream",
          "name": "stdout",
          "text": [
            "\n",
            " Binarized data:\n",
            " [[1. 0. 1.]\n",
            " [1. 1. 1.]\n",
            " [0. 1. 1.]\n",
            " [1. 0. 1.]]\n",
            "\n",
            "BEFORE: \n",
            "Mean = [2.55  0.925 3.175]\n",
            "Std deviation = [4.11126501 4.13604582 0.57172983]\n",
            "\n",
            "AFTER: \n",
            "Mean = [ 4.16333634e-17 -1.73472348e-17  2.08166817e-16]\n",
            "Std deviation = [1. 1. 1.]\n",
            "\n",
            "Мin max scaled data:\n",
            " [[0.74774775 0.         0.625     ]\n",
            " [1.         1.         1.        ]\n",
            " [0.         0.92380952 0.        ]\n",
            " [0.68468468 0.67619048 0.5625    ]]\n",
            "\n",
            "l1 normalized data:\n",
            " [[ 0.30827068 -0.44360902  0.2481203 ]\n",
            " [ 0.44805195  0.2987013   0.25324675]\n",
            " [-0.40776699  0.36893204  0.22330097]\n",
            " [ 0.43589744  0.15384615  0.41025641]]\n",
            "\n",
            "l2 normalized data:\n",
            " [[ 0.51857205 -0.74623783  0.41738726]\n",
            " [ 0.75294136  0.50196091  0.42557555]\n",
            " [-0.68704905  0.6216158   0.37624114]\n",
            " [ 0.70527884  0.24892194  0.66379185]]\n"
          ]
        }
      ]
    },
    {
      "cell_type": "code",
      "source": [
        "import numpy as np\n",
        "from sklearn import linear_model\n",
        "import matplotlib.pyplot as plt\n",
        "\n",
        "def visualize_classifier(model, X, y, ax=None, cmap='rainbow'):\n",
        "    ax = ax or plt.gca()\n",
        "    \n",
        "    # Plot the training points\n",
        "    ax.scatter(X[:, 0], X[:, 1], c=y, s=30, cmap=cmap,\n",
        "               clim=(y.min(), y.max()), zorder=3)\n",
        "    ax.axis('tight')\n",
        "    ax.axis('off')\n",
        "    xlim = ax.get_xlim()\n",
        "    ylim = ax.get_ylim()\n",
        "    \n",
        "    # fit the estimator\n",
        "    model.fit(X, y)\n",
        "    xx, yy = np.meshgrid(np.linspace(*xlim, num=200),\n",
        "                         np.linspace(*ylim, num=200))\n",
        "    Z = model.predict(np.c_[xx.ravel(), yy.ravel()]).reshape(xx.shape)\n",
        "\n",
        "    # Create a color plot with the results\n",
        "    n_classes = len(np.unique(y))\n",
        "    contours = ax.contourf(xx, yy, Z, alpha=0.3,\n",
        "                           levels=np.arange(n_classes + 1) - 0.5,\n",
        "                           cmap=cmap, clim=(y.min(), y.max()),\n",
        "                           zorder=1)\n",
        "\n",
        "    ax.set(xlim=xlim, ylim=ylim)\n",
        "\n",
        "# Визначення зразка вхідних даних\n",
        "X = np.array([[3.1, 7.2], [4, 6.7], [2.9, 8], [5.1, 4.5], [6, 5], [5.6, 5], [3.3, 0.4], [3.9, 0.9], [2.8, 1], [0.5, 3.4], [1, 4], [0.6, 4.9]])\n",
        "y = np.array([0, 0, 0, 1, 1, 1, 2, 2, 2, 3, 3, 3])\n",
        "\n",
        "# Створення логістичного класифікатора\n",
        "classifier = linear_model.LogisticRegression(solver='liblinear',C=1)\n",
        "\n",
        "# Тренування класифікатора\n",
        "classifier.fit(X, y)\n",
        "\n",
        "visualize_classifier(classifier, X, y)"
      ],
      "metadata": {
        "colab": {
          "base_uri": "https://localhost:8080/",
          "height": 265
        },
        "id": "CH4OSCeyrb4X",
        "outputId": "0042c48c-36f1-47d8-c6a7-cc5d73a237c7"
      },
      "execution_count": 4,
      "outputs": [
        {
          "output_type": "stream",
          "name": "stderr",
          "text": [
            "/usr/local/lib/python3.7/dist-packages/ipykernel_launcher.py:27: UserWarning: The following kwargs were not used by contour: 'clim'\n"
          ]
        },
        {
          "output_type": "display_data",
          "data": {
            "text/plain": [
              "<Figure size 432x288 with 1 Axes>"
            ],
            "image/png": "[encoded data removed]"
          },
          "metadata": {
            "needs_background": "light"
          }
        }
      ]
    },
    {
      "cell_type": "code",
      "source": [
        "import numpy as np\n",
        "import matplotlib.pyplot as plt\n",
        "\n",
        "from sklearn.naive_bayes import GaussianNB\n",
        "from sklearn.model_selection import train_test_split\n",
        "from sklearn.model_selection import cross_val_score\n",
        "\n",
        "def visualize_classifier(model, X, y, ax=None, cmap='rainbow'):\n",
        "    ax = ax or plt.gca()\n",
        "    \n",
        "    # Plot the training points\n",
        "    ax.scatter(X[:, 0], X[:, 1], c=y, s=30, cmap=cmap,\n",
        "               clim=(y.min(), y.max()), zorder=3)\n",
        "    ax.axis('tight')\n",
        "    ax.axis('off')\n",
        "    xlim = ax.get_xlim()\n",
        "    ylim = ax.get_ylim()\n",
        "    \n",
        "    # fit the estimator\n",
        "    model.fit(X, y)\n",
        "    xx, yy = np.meshgrid(np.linspace(*xlim, num=200),\n",
        "                         np.linspace(*ylim, num=200))\n",
        "    Z = model.predict(np.c_[xx.ravel(), yy.ravel()]).reshape(xx.shape)\n",
        "\n",
        "    # Create a color plot with the results\n",
        "    n_classes = len(np.unique(y))\n",
        "    contours = ax.contourf(xx, yy, Z, alpha=0.3,\n",
        "                           levels=np.arange(n_classes + 1) - 0.5,\n",
        "                           cmap=cmap, clim=(y.min(), y.max()),\n",
        "                           zorder=1)\n",
        "\n",
        "    ax.set(xlim=xlim, ylim=ylim)\n",
        "\n",
        "# Вхідний файл, який містить дані\n",
        "input_file = 'sample_data/data_multivar_nb.txt'\n",
        "\n",
        "# Завантаження даних із вхідного файлу\n",
        "data = np.loadtxt(input_file, delimiter=',')\n",
        "X, y = data[:, :-1], data[:, -1]\n",
        "\n",
        "# Створення наївного байєсовського класифікатора\n",
        "classifier = GaussianNB()\n",
        "\n",
        "# Тренування класифікатора\n",
        "classifier.fit(X, y)\n",
        "\n",
        "# Прогнозування значень для тренувальних даних\n",
        "y_pred = classifier.predict(X)\n",
        "\n",
        "# Обчислення якості класифікатора\n",
        "accuracy = 100.0 * (y == y_pred).sum() / X.shape[0]\n",
        "print(\"Accuracy of Naive Bayes classifier =\", round(accuracy, 2), \"%\")\n",
        "\n",
        "# Візуалізація результатів роботи класифікатора\n",
        "visualize_classifier(classifier, X, y)\n",
        "\n",
        "# Розбивка даних на навчальний та тестовий набори\n",
        "X_train, X_test, y_train, y_test = train_test_split(X, y, test_size=0.2, random_state=3)\n",
        "classifier_new = GaussianNB()\n",
        "classifier_new.fit(X_train, y_train)\n",
        "y_test_pred = classifier_new.predict(X_test)\n",
        "\n",
        "# Обчислення якості класифікатора\n",
        "accuracy = 100.0 * (y_test == y_test_pred).sum() / X_test.shape[0]\n",
        "print(\"Accuracy of the new classifier =\", round(accuracy, 2), \"%\")\n",
        "\n",
        "# Візуалізація роботи класифікатора\n",
        "visualize_classifier(classifier_new, X_test, y_test)\n",
        "\n",
        "num_folds = 3\n",
        "accuracy_values = cross_val_score(classifier, X, y, scoring='accuracy', cv=num_folds)\n",
        "print(\"Accuracy: \" + str(round(100 * accuracy_values.mean(), 2)) + \"%\")\n",
        "precision_values = cross_val_score(classifier, X, y, scoring='precision_weighted', cv=num_folds)\n",
        "print(\"Precision: \" + str(round(100 * precision_values.mean(), 2)) + \"%\")\n",
        "recall_values = cross_val_score(classifier, X, y, scoring='recall_weighted', cv=num_folds) \n",
        "print(\"Recall: \" + str(round(100 * recall_values.mean(), 2)) + \"%\")\n",
        "f1_values = cross_val_score(classifier, X, y, scoring='f1_weighted', cv=num_folds)\n",
        "print(\"F1: \" + str(round(100 * f1_values.mean(), 2)) + \"%\")"
      ],
      "metadata": {
        "colab": {
          "base_uri": "https://localhost:8080/",
          "height": 387
        },
        "id": "NPkkNvwbs2hH",
        "outputId": "776bd97e-8c03-441b-be7f-d0896ae8841b"
      },
      "execution_count": 6,
      "outputs": [
        {
          "output_type": "stream",
          "name": "stdout",
          "text": [
            "Accuracy of Naive Bayes classifier = 99.75 %\n",
            "Accuracy of the new classifier = 100.0 %\n",
            "Accuracy: 99.75%\n",
            "Precision: 99.76%\n",
            "Recall: 99.75%\n",
            "F1: 99.75%\n"
          ]
        },
        {
          "output_type": "stream",
          "name": "stderr",
          "text": [
            "/usr/local/lib/python3.7/dist-packages/ipykernel_launcher.py:30: UserWarning: The following kwargs were not used by contour: 'clim'\n",
            "/usr/local/lib/python3.7/dist-packages/ipykernel_launcher.py:30: UserWarning: The following kwargs were not used by contour: 'clim'\n"
          ]
        },
        {
          "output_type": "display_data",
          "data": {
            "text/plain": [
              "<Figure size 432x288 with 1 Axes>"
            ],
            "image/png": "[encoded data removed]"
          },
          "metadata": {
            "needs_background": "light"
          }
        }
      ]
    },
    {
      "cell_type": "code",
      "source": [
        "import pandas as pd\n",
        "df = pd.read_csv('sample_data/data_metrics.csv')\n",
        "df.head()\n",
        "\n",
        "thresh = 0.5\n",
        "df['predicted_RF'] = (df.model_RF >= 0.5).astype('int')\n",
        "df['predicted_LR'] = (df.model_LR >= 0.5).astype('int')\n",
        "df.head()"
      ],
      "metadata": {
        "colab": {
          "base_uri": "https://localhost:8080/",
          "height": 206
        },
        "id": "SEnZoNCDzoAj",
        "outputId": "e44b1805-e779-4466-8d14-3b9fc7a8c8a1"
      },
      "execution_count": 8,
      "outputs": [
        {
          "output_type": "execute_result",
          "data": {
            "text/plain": [
              "   actual_label  model_RF  model_LR  predicted_RF  predicted_LR\n",
              "0             1  0.639816  0.531904             1             1\n",
              "1             0  0.490993  0.414496             0             0\n",
              "2             1  0.623815  0.569883             1             1\n",
              "3             1  0.506616  0.443674             1             0\n",
              "4             0  0.418302  0.369532             0             0"
            ],
            "text/html": [
              "\n",
              "  <div id=\"df-cece6266-9dbd-469a-9f19-0e0e068e2d60\">\n",
              "    <div class=\"colab-df-container\">\n",
              "      <div>\n",
              "<style scoped>\n",
              "    .dataframe tbody tr th:only-of-type {\n",
              "        vertical-align: middle;\n",
              "    }\n",
              "\n",
              "    .dataframe tbody tr th {\n",
              "        vertical-align: top;\n",
              "    }\n",
              "\n",
              "    .dataframe thead th {\n",
              "        text-align: right;\n",
              "    }\n",
              "</style>\n",
              "<table border=\"1\" class=\"dataframe\">\n",
              "  <thead>\n",
              "    <tr style=\"text-align: right;\">\n",
              "      <th></th>\n",
              "      <th>actual_label</th>\n",
              "      <th>model_RF</th>\n",
              "      <th>model_LR</th>\n",
              "      <th>predicted_RF</th>\n",
              "      <th>predicted_LR</th>\n",
              "    </tr>\n",
              "  </thead>\n",
              "  <tbody>\n",
              "    <tr>\n",
              "      <th>0</th>\n",
              "      <td>1</td>\n",
              "      <td>0.639816</td>\n",
              "      <td>0.531904</td>\n",
              "      <td>1</td>\n",
              "      <td>1</td>\n",
              "    </tr>\n",
              "    <tr>\n",
              "      <th>1</th>\n",
              "      <td>0</td>\n",
              "      <td>0.490993</td>\n",
              "      <td>0.414496</td>\n",
              "      <td>0</td>\n",
              "      <td>0</td>\n",
              "    </tr>\n",
              "    <tr>\n",
              "      <th>2</th>\n",
              "      <td>1</td>\n",
              "      <td>0.623815</td>\n",
              "      <td>0.569883</td>\n",
              "      <td>1</td>\n",
              "      <td>1</td>\n",
              "    </tr>\n",
              "    <tr>\n",
              "      <th>3</th>\n",
              "      <td>1</td>\n",
              "      <td>0.506616</td>\n",
              "      <td>0.443674</td>\n",
              "      <td>1</td>\n",
              "      <td>0</td>\n",
              "    </tr>\n",
              "    <tr>\n",
              "      <th>4</th>\n",
              "      <td>0</td>\n",
              "      <td>0.418302</td>\n",
              "      <td>0.369532</td>\n",
              "      <td>0</td>\n",
              "      <td>0</td>\n",
              "    </tr>\n",
              "  </tbody>\n",
              "</table>\n",
              "</div>\n",
              "      <button class=\"colab-df-convert\" onclick=\"convertToInteractive('df-cece6266-9dbd-469a-9f19-0e0e068e2d60')\"\n",
              "              title=\"Convert this dataframe to an interactive table.\"\n",
              "              style=\"display:none;\">\n",
              "        \n",
              "  <svg xmlns=\"http://www.w3.org/2000/svg\" height=\"24px\"viewBox=\"0 0 24 24\"\n",
              "       width=\"24px\">\n",
              "    <path d=\"M0 0h24v24H0V0z\" fill=\"none\"/>\n",
              "    <path d=\"M18.56 5.44l.94 2.06.94-2.06 2.06-.94-2.06-.94-.94-2.06-.94 2.06-2.06.94zm-11 1L8.5 8.5l.94-2.06 2.06-.94-2.06-.94L8.5 2.5l-.94 2.06-2.06.94zm10 10l.94 2.06.94-2.06 2.06-.94-2.06-.94-.94-2.06-.94 2.06-2.06.94z\"/><path d=\"M17.41 7.96l-1.37-1.37c-.4-.4-.92-.59-1.43-.59-.52 0-1.04.2-1.43.59L10.3 9.45l-7.72 7.72c-.78.78-.78 2.05 0 2.83L4 21.41c.39.39.9.59 1.41.59.51 0 1.02-.2 1.41-.59l7.78-7.78 2.81-2.81c.8-.78.8-2.07 0-2.86zM5.41 20L4 18.59l7.72-7.72 1.47 1.35L5.41 20z\"/>\n",
              "  </svg>\n",
              "      </button>\n",
              "      \n",
              "  <style>\n",
              "    .colab-df-container {\n",
              "      display:flex;\n",
              "      flex-wrap:wrap;\n",
              "      gap: 12px;\n",
              "    }\n",
              "\n",
              "    .colab-df-convert {\n",
              "      background-color: #E8F0FE;\n",
              "      border: none;\n",
              "      border-radius: 50%;\n",
              "      cursor: pointer;\n",
              "      display: none;\n",
              "      fill: #1967D2;\n",
              "      height: 32px;\n",
              "      padding: 0 0 0 0;\n",
              "      width: 32px;\n",
              "    }\n",
              "\n",
              "    .colab-df-convert:hover {\n",
              "      background-color: #E2EBFA;\n",
              "      box-shadow: 0px 1px 2px rgba(60, 64, 67, 0.3), 0px 1px 3px 1px rgba(60, 64, 67, 0.15);\n",
              "      fill: #174EA6;\n",
              "    }\n",
              "\n",
              "    [theme=dark] .colab-df-convert {\n",
              "      background-color: #3B4455;\n",
              "      fill: #D2E3FC;\n",
              "    }\n",
              "\n",
              "    [theme=dark] .colab-df-convert:hover {\n",
              "      background-color: #434B5C;\n",
              "      box-shadow: 0px 1px 3px 1px rgba(0, 0, 0, 0.15);\n",
              "      filter: drop-shadow(0px 1px 2px rgba(0, 0, 0, 0.3));\n",
              "      fill: #FFFFFF;\n",
              "    }\n",
              "  </style>\n",
              "\n",
              "      <script>\n",
              "        const buttonEl =\n",
              "          document.querySelector('#df-cece6266-9dbd-469a-9f19-0e0e068e2d60 button.colab-df-convert');\n",
              "        buttonEl.style.display =\n",
              "          google.colab.kernel.accessAllowed ? 'block' : 'none';\n",
              "\n",
              "        async function convertToInteractive(key) {\n",
              "          const element = document.querySelector('#df-cece6266-9dbd-469a-9f19-0e0e068e2d60');\n",
              "          const dataTable =\n",
              "            await google.colab.kernel.invokeFunction('convertToInteractive',\n",
              "                                                     [key], {});\n",
              "          if (!dataTable) return;\n",
              "\n",
              "          const docLinkHtml = 'Like what you see? Visit the ' +\n",
              "            '<a target=\"_blank\" href=https://colab.research.google.com/notebooks/data_table.ipynb>data table notebook</a>'\n",
              "            + ' to learn more about interactive tables.';\n",
              "          element.innerHTML = '';\n",
              "          dataTable['output_type'] = 'display_data';\n",
              "          await google.colab.output.renderOutput(dataTable, element);\n",
              "          const docLink = document.createElement('div');\n",
              "          docLink.innerHTML = docLinkHtml;\n",
              "          element.appendChild(docLink);\n",
              "        }\n",
              "      </script>\n",
              "    </div>\n",
              "  </div>\n",
              "  "
            ]
          },
          "metadata": {},
          "execution_count": 8
        }
      ]
    },
    {
      "cell_type": "code",
      "source": [
        "from sklearn.metrics import confusion_matrix\n",
        "confusion_matrix(df.actual_label.values, df.predicted_RF.values)\n",
        "\n",
        "def find_TP(y_true, y_pred):\n",
        "  # counts the number of true positives (y_true = 1, y_pred = 1)\n",
        "  return sum((y_true == 1) & (y_pred == 1))\n",
        "  \n",
        "def find_FN(y_true, y_pred):\n",
        "  # counts the number of false negatives (y_true = 1, y_pred = 0)\n",
        "  return sum((y_true == 1) & (y_pred == 0))\n",
        "  \n",
        "def find_FP(y_true, y_pred):\n",
        "  # counts the number of false positives (y_true = 0, y_pred = 1)\n",
        "  return sum((y_true == 0) & (y_pred == 1))\n",
        "  \n",
        "def find_TN(y_true, y_pred):\n",
        "  # counts the number of true negatives (y_true = 0, y_pred = 0)\n",
        "  return sum((y_true == 0) & (y_pred == 0))\n",
        "\n",
        "print('TP:',find_TP(df.actual_label.values, df.predicted_RF.values))\n",
        "print('FN:',find_FN(df.actual_label.values, df.predicted_RF.values))\n",
        "print('FP:',find_FP(df.actual_label.values, df.predicted_RF.values))\n",
        "print('TN:',find_TN(df.actual_label.values, df.predicted_RF.values))\n",
        "\n",
        "import numpy as np\n",
        "def find_conf_matrix_values(y_true,y_pred):\n",
        "  # calculate TP, FN, FP, TN\n",
        "  TP = find_TP(y_true,y_pred)\n",
        "  FN = find_FN(y_true,y_pred)\n",
        "  FP = find_FP(y_true,y_pred)\n",
        "  TN = find_TN(y_true,y_pred)\n",
        "  return TP,FN,FP,TN\n",
        "  \n",
        "def my_confusion_matrix(y_true, y_pred):\n",
        "  TP,FN,FP,TN = find_conf_matrix_values(y_true,y_pred)\n",
        "  return np.array([[TN,FP],[FN,TP]])\n",
        "\n",
        "my_confusion_matrix(df.actual_label.values, df.predicted_RF.values)\n",
        "\n",
        "assert np.array_equal(my_confusion_matrix(df.actual_label.values, df.predicted_RF.values), confusion_matrix(df.actual_label.values, df.predicted_RF.values)), 'my_confusion_matrix() is not correct for RF'\n",
        "assert np.array_equal(my_confusion_matrix(df.actual_label.values, df.predicted_LR.values), confusion_matrix(df.actual_label.values, df.predicted_LR.values) ), 'my_confusion_matrix() is not correct for LR'"
      ],
      "metadata": {
        "colab": {
          "base_uri": "https://localhost:8080/"
        },
        "id": "DzgdnfPc0OEk",
        "outputId": "84804edb-15d8-4bf0-f9d5-0493119e1786"
      },
      "execution_count": 9,
      "outputs": [
        {
          "output_type": "stream",
          "name": "stdout",
          "text": [
            "TP: 5047\n",
            "FN: 2832\n",
            "FP: 2360\n",
            "TN: 5519\n"
          ]
        }
      ]
    },
    {
      "cell_type": "code",
      "source": [
        "from sklearn.metrics import accuracy_score\n",
        "accuracy_score(df.actual_label.values, df.predicted_RF.values)\n",
        "\n",
        "def my_accuracy_score(y_true, y_pred):\n",
        "  # calculates the fraction of samples TP,FN,FP,TN = find_conf_matrix_values(y_true,y_pred)\n",
        "  return find_conf_matrix_values(y_true,y_pred)\n",
        "\n",
        "assert my_accuracy_score(df.actual_label.values, df.predicted_RF.values) == accuracy_score(df.actual_label.values, df.predicted_RF.values), 'my_accuracy_score failed on RF'\n",
        "assert my_accuracy_score(df.actual_label.values, df.predicted_LR.values) == accuracy_score(df.actual_label.values, df.predicted_LR.values), 'my_accuracy_score failed on LR'\n",
        "\n",
        "print('Accuracy RF: %.3f' % (my_accuracy_score(df.actual_label.values, df.predicted_RF.values)))\n"
      ],
      "metadata": {
        "colab": {
          "base_uri": "https://localhost:8080/",
          "height": 269
        },
        "id": "U3MXM9Rd4RG-",
        "outputId": "20a6f66f-2a89-4d73-bf55-cda5c0524849"
      },
      "execution_count": 10,
      "outputs": [
        {
          "output_type": "error",
          "ename": "ValueError",
          "evalue": "ignored",
          "traceback": [
            "\u001b[0;31m---------------------------------------------------------------------------\u001b[0m",
            "\u001b[0;31mValueError\u001b[0m                                Traceback (most recent call last)",
            "\u001b[0;32m<ipython-input-10-961353ea1658>\u001b[0m in \u001b[0;36m<module>\u001b[0;34m()\u001b[0m\n\u001b[1;32m      6\u001b[0m   \u001b[0;32mreturn\u001b[0m \u001b[0mfind_conf_matrix_values\u001b[0m\u001b[0;34m(\u001b[0m\u001b[0my_true\u001b[0m\u001b[0;34m,\u001b[0m\u001b[0my_pred\u001b[0m\u001b[0;34m)\u001b[0m\u001b[0;34m\u001b[0m\u001b[0;34m\u001b[0m\u001b[0m\n\u001b[1;32m      7\u001b[0m \u001b[0;34m\u001b[0m\u001b[0m\n\u001b[0;32m----> 8\u001b[0;31m \u001b[0;32massert\u001b[0m \u001b[0mmy_accuracy_score\u001b[0m\u001b[0;34m(\u001b[0m\u001b[0mdf\u001b[0m\u001b[0;34m.\u001b[0m\u001b[0mactual_label\u001b[0m\u001b[0;34m.\u001b[0m\u001b[0mvalues\u001b[0m\u001b[0;34m,\u001b[0m \u001b[0mdf\u001b[0m\u001b[0;34m.\u001b[0m\u001b[0mpredicted_RF\u001b[0m\u001b[0;34m.\u001b[0m\u001b[0mvalues\u001b[0m\u001b[0;34m)\u001b[0m \u001b[0;34m==\u001b[0m \u001b[0maccuracy_score\u001b[0m\u001b[0;34m(\u001b[0m\u001b[0mdf\u001b[0m\u001b[0;34m.\u001b[0m\u001b[0mactual_label\u001b[0m\u001b[0;34m.\u001b[0m\u001b[0mvalues\u001b[0m\u001b[0;34m,\u001b[0m \u001b[0mdf\u001b[0m\u001b[0;34m.\u001b[0m\u001b[0mpredicted_RF\u001b[0m\u001b[0;34m.\u001b[0m\u001b[0mvalues\u001b[0m\u001b[0;34m)\u001b[0m\u001b[0;34m,\u001b[0m \u001b[0;34m'my_accuracy_score failed on RF'\u001b[0m\u001b[0;34m\u001b[0m\u001b[0;34m\u001b[0m\u001b[0m\n\u001b[0m\u001b[1;32m      9\u001b[0m \u001b[0;32massert\u001b[0m \u001b[0mmy_accuracy_score\u001b[0m\u001b[0;34m(\u001b[0m\u001b[0mdf\u001b[0m\u001b[0;34m.\u001b[0m\u001b[0mactual_label\u001b[0m\u001b[0;34m.\u001b[0m\u001b[0mvalues\u001b[0m\u001b[0;34m,\u001b[0m \u001b[0mdf\u001b[0m\u001b[0;34m.\u001b[0m\u001b[0mpredicted_LR\u001b[0m\u001b[0;34m.\u001b[0m\u001b[0mvalues\u001b[0m\u001b[0;34m)\u001b[0m \u001b[0;34m==\u001b[0m \u001b[0maccuracy_score\u001b[0m\u001b[0;34m(\u001b[0m\u001b[0mdf\u001b[0m\u001b[0;34m.\u001b[0m\u001b[0mactual_label\u001b[0m\u001b[0;34m.\u001b[0m\u001b[0mvalues\u001b[0m\u001b[0;34m,\u001b[0m \u001b[0mdf\u001b[0m\u001b[0;34m.\u001b[0m\u001b[0mpredicted_LR\u001b[0m\u001b[0;34m.\u001b[0m\u001b[0mvalues\u001b[0m\u001b[0;34m)\u001b[0m\u001b[0;34m,\u001b[0m \u001b[0;34m'my_accuracy_score failed on LR'\u001b[0m\u001b[0;34m\u001b[0m\u001b[0;34m\u001b[0m\u001b[0m\n\u001b[1;32m     10\u001b[0m \u001b[0;34m\u001b[0m\u001b[0m\n",
            "\u001b[0;31mValueError\u001b[0m: The truth value of an array with more than one element is ambiguous. Use a.any() or a.all()"
          ]
        }
      ]
    }
  ]
}